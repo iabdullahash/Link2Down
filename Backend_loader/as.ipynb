{
 "cells": [
  {
   "cell_type": "code",
   "execution_count": null,
   "metadata": {},
   "outputs": [],
   "source": [
    "from instascrape import *\n"
   ]
  },
  {
   "cell_type": "code",
   "execution_count": null,
   "metadata": {},
   "outputs": [],
   "source": [
    "google_post = IGTV('https://www.instagram.com/tv/CteXxgigDLV',{\"shortcode\":\"CteXxgigDLV\"})\n",
    "google_post.download(\"/Insta\")\n",
    "# print(google_post['hashtags'])"
   ]
  },
  {
   "cell_type": "code",
   "execution_count": null,
   "metadata": {},
   "outputs": [],
   "source": [
    "\n",
    "with Instascraper() as insta:\n",
    "    \n",
    "    posts = insta.profile(\"manzoor._.21\").timeline_posts()\n",
    "    posts.limit(10).preload(True)\n",
    "    posts.download_all(dest=\"./Instagram\")"
   ]
  },
  {
   "cell_type": "code",
   "execution_count": null,
   "metadata": {},
   "outputs": [],
   "source": [
    "import os\n",
    "print(os.getcwd())"
   ]
  },
  {
   "cell_type": "code",
   "execution_count": null,
   "metadata": {},
   "outputs": [],
   "source": [
    "from pytube import YouTube\n",
    "url = \"https://www.youtube.com/watch?v=njprYTbMOOk&ab_channel=SharumKiSketchbook\"\n",
    "\n",
    "yt = YouTube(url)\n",
    "# if \"shorts\" in url:\n",
    "    # print(yt.streams.get_highest_resolution().resolution)\n"
   ]
  },
  {
   "cell_type": "code",
   "execution_count": null,
   "metadata": {},
   "outputs": [],
   "source": [
    "audio_streams = yt.streams.filter(only_audio=True,abr=\"48kbps\")"
   ]
  },
  {
   "cell_type": "code",
   "execution_count": null,
   "metadata": {},
   "outputs": [],
   "source": [
    "aud_res = []\n",
    "for stream in audio_streams:\n",
    "    if stream.abr:\n",
    "        aud_res.append(int(stream.abr[:-4]))\n",
    "aud_res = sorted(aud_res,reverse=True)"
   ]
  },
  {
   "cell_type": "code",
   "execution_count": null,
   "metadata": {},
   "outputs": [],
   "source": [
    "audio_streams.first().is_progressive"
   ]
  },
  {
   "cell_type": "code",
   "execution_count": null,
   "metadata": {},
   "outputs": [],
   "source": [
    "print(yt.streams.order_by('resolution'))"
   ]
  },
  {
   "cell_type": "code",
   "execution_count": null,
   "metadata": {},
   "outputs": [],
   "source": [
    "res = []\n",
    "for stream in yt.streams.order_by('resolution'):\n",
    "    if stream.resolution:\n",
    "        res.append(int(stream.resolution[:-1]))\n",
    "print(res)"
   ]
  },
  {
   "cell_type": "code",
   "execution_count": null,
   "metadata": {},
   "outputs": [],
   "source": [
    "res = []\n",
    "for stream in yt.streams.order_by('resolution'):\n",
    "    if stream.resolution:\n",
    "        res.append((int(stream.resolution[:-1]), stream.filesize))\n",
    "\n",
    "# Sort the list based on the first index of each tuple\n",
    "res.sort(key=lambda x: x[0])\n",
    "\n",
    "print(res)"
   ]
  },
  {
   "cell_type": "code",
   "execution_count": null,
   "metadata": {},
   "outputs": [],
   "source": [
    "res"
   ]
  },
  {
   "cell_type": "code",
   "execution_count": null,
   "metadata": {},
   "outputs": [],
   "source": [
    "import yt_dlp\n",
    "\n",
    "def download_video(url, resolution):\n",
    "    ydl_opts = {\n",
    "        'format': f'bestvideo[height<={resolution}]+bestaudio/best[height<={resolution}]',\n",
    "        'merge_output_format': 'mp4',\n",
    "        'outtmpl': '%(title)s.%(ext)s',\n",
    "    }\n",
    "\n",
    "    with yt_dlp.YoutubeDL(ydl_opts) as ydl:\n",
    "        info = ydl.extract_info(url, download=False)\n",
    "        video_title = info['title']\n",
    "        ydl.download([url])\n",
    "\n",
    "    return f'{video_title}.mp4'\n"
   ]
  },
  {
   "cell_type": "code",
   "execution_count": null,
   "metadata": {},
   "outputs": [],
   "source": [
    "url = 'https://www.youtube.com/watch?v=njprYTbMOOk&ab_channel=SharumKiSketchbook'\n",
    "resolution = 1080  # Specify the desired resolution\n",
    "\n",
    "video_filename = download_video(url, resolution)\n",
    "print(f'Downloaded video: {video_filename}')"
   ]
  },
  {
   "cell_type": "code",
   "execution_count": null,
   "metadata": {},
   "outputs": [],
   "source": [
    "\n",
    "[x for i, x in enumerate(res)  if  (len(res[:i])>0) and (x[0] not in res[:i][0])]\n"
   ]
  },
  {
   "cell_type": "code",
   "execution_count": null,
   "metadata": {},
   "outputs": [],
   "source": [
    "# [x for i, x in enumerate(res) if x not in res[:i]]\n",
    "res.reverse()"
   ]
  },
  {
   "cell_type": "code",
   "execution_count": null,
   "metadata": {},
   "outputs": [],
   "source": [
    "res"
   ]
  },
  {
   "cell_type": "code",
   "execution_count": null,
   "metadata": {},
   "outputs": [],
   "source": [
    "yt = YouTube(\"https://www.youtube.com/watch?v=LXb3EKWsInQ&ab_channel=Jacob%2BKatieSchwarz\")\n",
    "print(yt.streams.all)\n",
    "video = yt.streams.filter(res=f\"1080p\").first()\n",
    "print(video)\n",
    "# video.download(\"./Instagram/test.mp4\")\n",
    "# return send_file(video_data, download_name=filename, as_attachment=True)"
   ]
  },
  {
   "cell_type": "code",
   "execution_count": null,
   "metadata": {},
   "outputs": [],
   "source": [
    "video.download(filename=\"test2.mp4\")\n"
   ]
  },
  {
   "cell_type": "code",
   "execution_count": null,
   "metadata": {},
   "outputs": [],
   "source": [
    "yt.streams.get_highest_resolution()"
   ]
  },
  {
   "cell_type": "code",
   "execution_count": null,
   "metadata": {},
   "outputs": [],
   "source": [
    "yt.close()"
   ]
  },
  {
   "cell_type": "code",
   "execution_count": null,
   "metadata": {},
   "outputs": [],
   "source": [
    "import instaloader"
   ]
  },
  {
   "cell_type": "code",
   "execution_count": null,
   "metadata": {},
   "outputs": [],
   "source": [
    "L = instaloader.Instaloader()"
   ]
  },
  {
   "cell_type": "code",
   "execution_count": null,
   "metadata": {},
   "outputs": [],
   "source": [
    "post = instaloader.Post.from_shortcode(L.context, 'CtrN_mYOPoJ')"
   ]
  },
  {
   "cell_type": "code",
   "execution_count": null,
   "metadata": {},
   "outputs": [],
   "source": [
    "video_url = post.video_url\n"
   ]
  },
  {
   "cell_type": "code",
   "execution_count": null,
   "metadata": {},
   "outputs": [],
   "source": [
    "post.is_video"
   ]
  },
  {
   "cell_type": "code",
   "execution_count": null,
   "metadata": {},
   "outputs": [],
   "source": [
    "p_link = \"https://www.instagram.com/p/CtrN_mYOPoJ/\""
   ]
  },
  {
   "cell_type": "code",
   "execution_count": null,
   "metadata": {},
   "outputs": [],
   "source": [
    "l = p_link.split(\"/\")\n",
    "if \"p\" in l or \"tv\" in l or \"reel\" in l:\n",
    "    shortcode = l[4]\n",
    "else:\n",
    "    print(\"error\")\n"
   ]
  },
  {
   "cell_type": "code",
   "execution_count": null,
   "metadata": {},
   "outputs": [],
   "source": [
    "l"
   ]
  },
  {
   "cell_type": "code",
   "execution_count": null,
   "metadata": {},
   "outputs": [],
   "source": [
    "L.download_post(post, target='./Instagram/')"
   ]
  },
  {
   "cell_type": "code",
   "execution_count": null,
   "metadata": {},
   "outputs": [],
   "source": [
    "post._asdict()[\"display_url\"]\n"
   ]
  },
  {
   "cell_type": "code",
   "execution_count": null,
   "metadata": {},
   "outputs": [],
   "source": [
    "post._asdict()"
   ]
  },
  {
   "cell_type": "code",
   "execution_count": null,
   "metadata": {},
   "outputs": [],
   "source": [
    "from socialscraper import LinkedInScraper\n",
    "\n",
    "# URL of the LinkedIn post\n",
    "linkedin_post_url = 'https://www.linkedin.com/posts/user-name_post-url'\n",
    "\n",
    "# Initialize LinkedInScraper\n",
    "linkedin_scraper = LinkedInScraper()\n",
    "\n",
    "# Get post details\n",
    "post_details = linkedin_scraper.get_post(linkedin_post_url)\n",
    "print(post_details)"
   ]
  },
  {
   "cell_type": "code",
   "execution_count": null,
   "metadata": {},
   "outputs": [],
   "source": [
    "from socialscraper import TwitterScraper\n",
    "\n",
    "# URL of the Twitter post\n",
    "twitter_post_url = 'https://twitter.com/user-name/status/post-id'\n",
    "\n",
    "# Initialize TwitterScraper\n",
    "twitter_scraper = TwitterScraper()\n",
    "\n",
    "# Get post details\n",
    "post_details = twitter_scraper.get_post(twitter_post_url)\n",
    "print(post_details)\n"
   ]
  },
  {
   "cell_type": "code",
   "execution_count": null,
   "metadata": {},
   "outputs": [],
   "source": [
    "import time\n",
    "import requests\n",
    "from bs4 import BeautifulSoup\n",
    "from pprint import pprint\n",
    "def download_post(url):\n",
    "  response = requests.get(url)\n",
    "  soup = BeautifulSoup(response.content, \"html.parser\")\n",
    "  # pprint(soup)\n",
    "  post_text = soup.findAll(\"img\")\n",
    "  pprint(post_text)\n",
    "  # post_file_name = post_text.replace(\" \", \"-\") + \".txt\"\n",
    "  # with open(post_file_name, \"w\") as f:\n",
    "    # f.write(post_text)\n",
    "\n",
    "  # Enter the URL of the LinkedIn post you want to download\n"
   ]
  },
  {
   "cell_type": "code",
   "execution_count": null,
   "metadata": {},
   "outputs": [],
   "source": [
    "url = \"https://www.linkedin.com/posts/iqra-tanweer_embracing-challenges-unlocking-my-potential-activity-7079159361448607744-sFDo?utm_source=share&utm_medium=member_desktop\"\n",
    "\n",
    "# Download the post\n",
    "download_post(url)\n",
    "\n",
    "# Print a success message\n",
    "print(\"Post downloaded successfully!\")"
   ]
  },
  {
   "cell_type": "code",
   "execution_count": null,
   "metadata": {},
   "outputs": [],
   "source": [
    "from socialreaper import Twitter\n",
    "from socialreaper.tools import to_csv\n",
    "\n",
    "twt = Twitter(api_key=\"0JinTqWkBhjMSEdhZrGOcBluZ\", api_secret=\"fUTr4YlFNi5yek2zJwOrEEsurwi2B0NiWa3Yk63G94oO8WYWSt\", access_token=\"1101021485114839041-OZaXhFbNzZhxjZqzc86CrlLAWBWjt4\", \n",
    "    access_token_secret=\"UcKKlywHuzTkvULWF2Jm94BnKzOKJmjVER0bELEyoJ2ii\")\n",
    "    \n",
    "tweets = twt.user(\"realDonaldTrump\", count=500, exclude_replies=True, \n",
    "    include_retweets=False)\n",
    "    \n",
    "to_csv(list(tweets), filename='trump.csv')\n"
   ]
  },
  {
   "cell_type": "code",
   "execution_count": null,
   "metadata": {},
   "outputs": [],
   "source": [
    "import requests\n",
    "import json\n",
    "\n",
    "def scrape_twitter_post(tweet_url):\n",
    "  response = requests.get(tweet_url)\n",
    "  pprint(response.content)\n",
    "  data = json.loads(response.content)\n",
    "\n",
    "  # Get the post data\n",
    "  post_data = {\n",
    "    \"text\": data[\"text\"],\n",
    "    \"images\": [image[\"url\"] for image in data[\"extended_entities\"][\"media\"][0][\"media_url_https\"]],\n",
    "    \"videos\": [video[\"url\"] for video in data[\"extended_entities\"][\"media\"][1][\"media_url_https\"]]\n",
    "  }\n",
    "\n",
    "  return post_data\n",
    "\n",
    "if __name__ == \"__main__\":\n",
    "  # Get the tweet URL\n",
    "  tweet_url = \"https://twitter.com/elonmusk/status/1673587083267518465\"\n",
    "\n",
    "  # Scrape the tweet data\n",
    "  post_data = scrape_twitter_post(tweet_url)\n",
    "\n",
    "  # Print the post data\n",
    "  print(post_data)\n"
   ]
  },
  {
   "cell_type": "code",
   "execution_count": 32,
   "metadata": {},
   "outputs": [
    {
     "ename": "TypeError",
     "evalue": "'generator' object is not subscriptable",
     "output_type": "error",
     "traceback": [
      "\u001b[1;31m---------------------------------------------------------------------------\u001b[0m",
      "\u001b[1;31mTypeError\u001b[0m                                 Traceback (most recent call last)",
      "Cell \u001b[1;32mIn[32], line 10\u001b[0m\n\u001b[0;32m      7\u001b[0m post \u001b[39m=\u001b[39m get_posts(post_urls\u001b[39m=\u001b[39mpost_url)\n\u001b[0;32m      9\u001b[0m \u001b[39m# Check if the post contains a video\u001b[39;00m\n\u001b[1;32m---> 10\u001b[0m \u001b[39mif\u001b[39;00m \u001b[39m'\u001b[39m\u001b[39mvideo\u001b[39m\u001b[39m'\u001b[39m \u001b[39min\u001b[39;00m post[\u001b[39m'\u001b[39;49m\u001b[39mpost_url\u001b[39;49m\u001b[39m'\u001b[39;49m]:\n\u001b[0;32m     11\u001b[0m     \u001b[39m# Download the video\u001b[39;00m\n\u001b[0;32m     12\u001b[0m     video_url \u001b[39m=\u001b[39m post[\u001b[39m'\u001b[39m\u001b[39mvideo\u001b[39m\u001b[39m'\u001b[39m]\n\u001b[0;32m     13\u001b[0m     \u001b[39m# Perform the download operation using your preferred method\u001b[39;00m\n\u001b[0;32m     14\u001b[0m \n\u001b[0;32m     15\u001b[0m \u001b[39m# Check if the post contains an image\u001b[39;00m\n",
      "\u001b[1;31mTypeError\u001b[0m: 'generator' object is not subscriptable"
     ]
    }
   ],
   "source": [
    "from facebook_scraper import get_posts\n",
    "\n",
    "# Facebook post URL\n",
    "post_url = 'https://www.facebook.com/21785951839/posts/pfbid0cig2RNb1azHVW4KWXZHxu9y5ndksTrDxEtcLaH1JASfkqtkeYmnR9kbfUYSDP1LHl/?mibextid=CDWPTG'\n",
    "\n",
    "# Scrape a specific post\n",
    "post = next(get_posts(post_urls=post_url))\n",
    "\n",
    "# Check if the post contains a video\n",
    "if 'video' in post['post_url']:\n",
    "    # Download the video\n",
    "    video_url = post['video']\n",
    "    # Perform the download operation using your preferred method\n",
    "\n",
    "# Check if the post contains an image\n",
    "if 'image' in post:\n",
    "    # Download the image\n",
    "    image_url = post['image']\n",
    "    # Perform the download operation using your preferred method\n"
   ]
  },
  {
   "cell_type": "code",
   "execution_count": 30,
   "metadata": {},
   "outputs": [
    {
     "ename": "NameError",
     "evalue": "name 'image_url' is not defined",
     "output_type": "error",
     "traceback": [
      "\u001b[1;31m---------------------------------------------------------------------------\u001b[0m",
      "\u001b[1;31mNameError\u001b[0m                                 Traceback (most recent call last)",
      "Cell \u001b[1;32mIn[30], line 1\u001b[0m\n\u001b[1;32m----> 1\u001b[0m image_url\n",
      "\u001b[1;31mNameError\u001b[0m: name 'image_url' is not defined"
     ]
    }
   ],
   "source": [
    "image_url"
   ]
  }
 ],
 "metadata": {
  "kernelspec": {
   "display_name": "env",
   "language": "python",
   "name": "python3"
  },
  "language_info": {
   "codemirror_mode": {
    "name": "ipython",
    "version": 3
   },
   "file_extension": ".py",
   "mimetype": "text/x-python",
   "name": "python",
   "nbconvert_exporter": "python",
   "pygments_lexer": "ipython3",
   "version": "3.10.6"
  },
  "orig_nbformat": 4,
  "vscode": {
   "interpreter": {
    "hash": "18060ba587b3161f7034fb3c7ac1618ef71098987b7dcbd340bfd4255dadadbb"
   }
  }
 },
 "nbformat": 4,
 "nbformat_minor": 2
}
